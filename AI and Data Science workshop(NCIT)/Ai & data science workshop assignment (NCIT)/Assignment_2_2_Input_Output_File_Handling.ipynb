{
  "cells": [
    {
      "cell_type": "markdown",
      "id": "684ad7ca",
      "metadata": {
        "id": "684ad7ca"
      },
      "source": [
        "[![Open In Colab](https://colab.research.google.com/assets/colab-badge.svg)](https://colab.research.google.com/github/Nepal-College-of-Information-Technology/AI-Data-Science-Worksop-2024/blob/main/Practice%20Yourself/Assignment_2.2_Input_Output_File_Handling.ipynb)"
      ]
    },
    {
      "cell_type": "markdown",
      "id": "469ec233",
      "metadata": {
        "id": "469ec233"
      },
      "source": [
        "\n",
        "# Assignment 2.2: Input/Output and File Handling\n",
        "\n",
        "This assignment consists of two tasks related to reading, writing, and manipulating files in Python.\n",
        "\n",
        "---\n",
        "\n",
        "## **Task 1: User Registration System**\n",
        "\n",
        "Write a Python program that:\n",
        "1. Prompts the user to enter their name and email.\n",
        "2. Saves this information to a file called `users.txt`.\n",
        "3. Reads the file and prints all registered users.\n",
        "\n",
        "**Hints**:\n",
        "- Use `open()` with `'a'` mode to append new users to the file.\n",
        "- Use `open()` with `'r'` mode to read and print the file content."
      ]
    },
    {
      "cell_type": "code",
      "execution_count": 4,
      "id": "e59aad17",
      "metadata": {
        "colab": {
          "base_uri": "https://localhost:8080/"
        },
        "id": "e59aad17",
        "outputId": "783a7bd4-3d9d-428e-b4c7-b2deabde14ce"
      },
      "outputs": [
        {
          "output_type": "stream",
          "name": "stdout",
          "text": [
            "Enter your name: Rohit Khaling\n",
            "Enter your email: rohitraie77@gmail.com\n",
            "User Rohit Khaling with email rohitraie77@gmail.com has been added to users.txt.\n",
            "Registered users:\n",
            "rohit, rohitraeee7@gmail.com\n",
            "Rohit Khaling, rohitraie77@gmail.com\n"
          ]
        }
      ],
      "source": [
        "def save_user():\n",
        "    name = input(\"Enter your name: \")\n",
        "    email = input(\"Enter your email: \")\n",
        "\n",
        "    with open(\"users.txt\", \"a\") as file:\n",
        "        file.write(f\"{name}, {email}\\n\")\n",
        "\n",
        "    print(f\"User {name} with email {email} has been added to users.txt.\")\n",
        "\n",
        "\n",
        "def read_users():\n",
        "    print(\"Registered users:\")\n",
        "    try:\n",
        "\n",
        "        with open(\"users.txt\", \"r\") as file:\n",
        "            for line in file:\n",
        "                print(line.strip())\n",
        "    except FileNotFoundError:\n",
        "        print(\"No users registered yet. The file does not exist.\")\n",
        "\n",
        "\n",
        "save_user()\n",
        "\n",
        "\n",
        "read_users()"
      ]
    },
    {
      "cell_type": "markdown",
      "id": "e122679d",
      "metadata": {
        "id": "e122679d"
      },
      "source": [
        "---\n",
        "\n",
        "## **Task 2: Employee Data from CSV**\n",
        "\n",
        "Write a Python program that:\n",
        "1. Reads employee data from the provided `employees.csv` file.\n",
        "2. Prints the names and salaries of all employees.\n",
        "3. Finds and prints the employee with the highest salary.\n",
        "4. Adds a new employee to the CSV file.\n",
        "\n",
        "**Hints**:\n",
        "- Use `csv.reader()` to read the CSV file.\n",
        "- Use the `open()` function with `'a'` mode to append a new employee.\n",
        "    "
      ]
    },
    {
      "cell_type": "code",
      "execution_count": 7,
      "id": "8b5a4f3b",
      "metadata": {
        "colab": {
          "base_uri": "https://localhost:8080/"
        },
        "id": "8b5a4f3b",
        "outputId": "4cde5e8e-4292-428c-8c14-278ed8329f88"
      },
      "outputs": [
        {
          "output_type": "stream",
          "name": "stdout",
          "text": [
            "Employees:\n",
            "Dikshya Thapa: $75000\n",
            "Prasun Manandhar: $68000\n",
            "Avijit Gurung: $56000\n",
            "Santosh Neupane: $60000\n",
            "Wilson Shrestha: $65000\n",
            "Rajani Mandal: $70000\n",
            "\n",
            "Employee with the highest salary: Dikshya Thapa ($75000)\n",
            "Enter the name of the new employee: Ram\n",
            "Enter the salary of the new employee: 20000\n",
            "\n",
            "Added new employee: Ram, Salary: $20000\n"
          ]
        }
      ],
      "source": [
        "import csv\n",
        "import os\n",
        "\n",
        "def read_employees(file_path):\n",
        "    employees = []\n",
        "    if os.path.exists(file_path):\n",
        "        with open(file_path, 'r', newline='') as csvfile:\n",
        "            reader = csv.reader(csvfile)\n",
        "            next(reader)\n",
        "            print(\"Employees:\")\n",
        "            for row in reader:\n",
        "                name, salary = row[0], int(row[2])\n",
        "                employees.append((name, salary))\n",
        "                print(f\"{name}: ${salary}\")\n",
        "    else:\n",
        "        print(f\"File not found: {file_path}\")\n",
        "    return employees\n",
        "\n",
        "def find_highest_salary(employees):\n",
        "    if employees:\n",
        "        highest_salary_employee = max(employees, key=lambda x: x[1])\n",
        "        print(f\"\\nEmployee with the highest salary: {highest_salary_employee[0]} (${highest_salary_employee[1]})\")\n",
        "    else:\n",
        "        print(\"No employee data available.\")\n",
        "\n",
        "def add_employee(file_path, name, salary):\n",
        "    with open(file_path, 'a', newline='') as csvfile:\n",
        "        writer = csv.writer(csvfile)\n",
        "        writer.writerow([name, salary])\n",
        "    print(f\"\\nAdded new employee: {name}, Salary: ${salary}\")\n",
        "\n",
        "def main():\n",
        "    file_path = 'employees.csv'\n",
        "\n",
        "    employees = read_employees(file_path)\n",
        "\n",
        "    find_highest_salary(employees)\n",
        "\n",
        "\n",
        "    if os.path.exists(file_path):\n",
        "        new_name = input(\"Enter the name of the new employee: \")\n",
        "        new_salary = int(input(\"Enter the salary of the new employee: \"))\n",
        "        add_employee(file_path, new_name, new_salary)\n",
        "\n",
        "if __name__ == \"__main__\":\n",
        "    main()"
      ]
    },
    {
      "cell_type": "markdown",
      "id": "43dd44f1",
      "metadata": {
        "id": "43dd44f1"
      },
      "source": [
        "---"
      ]
    }
  ],
  "metadata": {
    "kernelspec": {
      "display_name": "base",
      "language": "python",
      "name": "python3"
    },
    "language_info": {
      "codemirror_mode": {
        "name": "ipython",
        "version": 3
      },
      "file_extension": ".py",
      "mimetype": "text/x-python",
      "name": "python",
      "nbconvert_exporter": "python",
      "pygments_lexer": "ipython3",
      "version": "3.10.6"
    },
    "colab": {
      "provenance": []
    }
  },
  "nbformat": 4,
  "nbformat_minor": 5
}